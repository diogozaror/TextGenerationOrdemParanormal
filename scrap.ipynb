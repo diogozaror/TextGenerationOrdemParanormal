{
 "cells": [
  {
   "attachments": {},
   "cell_type": "markdown",
   "metadata": {},
   "source": [
    "# Scrap para conseguir o banco de dados do projeto de machine learning com Ordem Paranormal\n",
    "Esse é o jupyter notebook para conseguir pegar os dados."
   ]
  },
  {
   "cell_type": "code",
   "execution_count": null,
   "metadata": {},
   "outputs": [],
   "source": [
    "from youtube_transcript_api import YouTubeTranscriptApi\n",
    "from youtube_transcript_api._errors import NoTranscriptFound\n",
    "from unicodedata import normalize"
   ]
  },
  {
   "cell_type": "code",
   "execution_count": null,
   "metadata": {},
   "outputs": [],
   "source": [
    "#Códigos do episódios no youtube.\n",
    "listaEpisodiosOAP_s1 = {'s1ep1': 'uplnCYc0fDg','s1ep2': '4Ud5QQ2IEgU', 's1ep3': 'dtcsHSAEik8'}\n",
    "listaEpisodiosOAP_s2 = {'s2ep1': '23z-tCHgMGI', 's2ep2': 'sq37bBDs8vk', 's2ep3': 'qzUD-387XhM', 's2ep4': 'NhhnGF1Lpx4', 's2ep5': 'mtXiwMX0K-c',\n",
    " 's2ep6': '03Led-EYcA8', 's2ep7': 'VldAD6_DMgw', 's2ep8': 'gYdRp7eohyQ', 's2ep9': 'En2JC9n66bo', 's2ep10': 'ZCY9Ez6gzfY', 's2ep11': 'lPEH0PmDA9M',\n",
    " 's2ep12': 'Rjkt4KpNpBM', 's2ep13': 'cOTLH2R_iiE', 's2ep14': 'jVJkjOOFIyw', 's2ep15': 'o6_N14zB80s', 's2ep16': 'BH-yFQo882w'}"
   ]
  },
  {
   "cell_type": "code",
   "execution_count": null,
   "metadata": {},
   "outputs": [],
   "source": [
    "listageral = []\n",
    "\n",
    "for e in listaEpisodiosOAP_s2:\n",
    "    transcript_list = YouTubeTranscriptApi.list_transcripts(listaEpisodiosOAP_s2[e])\n",
    "    \n",
    "    try:\n",
    "        #só se tiver legenda manual e em português\n",
    "        transcript = transcript_list.find_manually_created_transcript(['pt'])\n",
    "    except(NoTranscriptFound):\n",
    "        print(\"pulando: \", e)\n",
    "        continue\n",
    "\n",
    "    print(\n",
    "        e,\n",
    "        transcript.video_id,\n",
    "        transcript.language,\n",
    "        transcript.language_code,\n",
    "        transcript.is_generated,\n",
    "        transcript.is_translatable,\n",
    "    )\n",
    "\n",
    "    text = transcript.fetch()\n",
    "\n",
    "    listageral.extend(text)\n",
    "\n",
    "    with open(e+'.csv', 'w', encoding='UTF-8') as f:\n",
    "        f.write('text#start#duration\\n')\n",
    "        for t in text:\n",
    "            tex = t['text']\n",
    "            tex = tex.replace('#', '')\n",
    "            tsd = f\"{tex}#{t['start']}#{t['duration']}\\n\"\n",
    "            f.write(tsd)"
   ]
  },
  {
   "cell_type": "code",
   "execution_count": null,
   "metadata": {},
   "outputs": [],
   "source": [
    "print('mixing all together')\n",
    "with open('s2_clean_acento.csv', 'w', encoding='UTF-8') as f:\n",
    "        f.write('text\\n')\n",
    "        for t in listageral:\n",
    "            tex = t['text']\n",
    "            tex = tex.replace('#', '')\n",
    "            #tex = normalize('NFKD', tex).encode('ASCII','ignore').decode('ASCII')\n",
    "            tsd = f\"{tex}\\n\"\n",
    "            f.write(tsd)"
   ]
  }
 ],
 "metadata": {
  "kernelspec": {
   "display_name": "Python 3",
   "language": "python",
   "name": "python3"
  },
  "language_info": {
   "name": "python",
   "version": "3.10.6"
  },
  "orig_nbformat": 4,
  "vscode": {
   "interpreter": {
    "hash": "f0b70983dbcab9a3ca5b2214fed78443a38b0edf51eb1d4c3c4429b35a0e707f"
   }
  }
 },
 "nbformat": 4,
 "nbformat_minor": 2
}
